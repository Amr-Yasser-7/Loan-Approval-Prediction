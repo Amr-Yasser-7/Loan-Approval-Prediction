{
 "cells": [
  {
   "cell_type": "code",
   "execution_count": null,
   "id": "42c136e2",
   "metadata": {
    "execution": {
     "iopub.execute_input": "2025-08-24T21:40:40.921989Z",
     "iopub.status.busy": "2025-08-24T21:40:40.921718Z",
     "iopub.status.idle": "2025-08-24T21:40:46.042121Z",
     "shell.execute_reply": "2025-08-24T21:40:46.040959Z",
     "shell.execute_reply.started": "2025-08-24T21:40:40.921962Z"
    },
    "trusted": true
   },
   "outputs": [],
   "source": [
    "import pandas as pd\n",
    "import matplotlib.pyplot as plt\n",
    "import seaborn as sns\n",
    "from sklearn.preprocessing import LabelEncoder\n",
    "from sklearn.model_selection import train_test_split\n",
    "from sklearn.metrics import accuracy_score,confusion_matrix,ConfusionMatrixDisplay,roc_auc_score,classification_report,precision_score,recall_score,f1_score\n",
    "from sklearn.ensemble import RandomForestClassifier"
   ]
  },
  {
   "cell_type": "code",
   "execution_count": 3,
   "id": "92a41dd0",
   "metadata": {
    "execution": {
     "iopub.execute_input": "2025-08-24T21:40:46.044579Z",
     "iopub.status.busy": "2025-08-24T21:40:46.043906Z",
     "iopub.status.idle": "2025-08-24T21:40:46.091994Z",
     "shell.execute_reply": "2025-08-24T21:40:46.091044Z",
     "shell.execute_reply.started": "2025-08-24T21:40:46.044539Z"
    },
    "trusted": true
   },
   "outputs": [
    {
     "data": {
      "text/plain": [
       "(4269, 13)"
      ]
     },
     "execution_count": 3,
     "metadata": {},
     "output_type": "execute_result"
    }
   ],
   "source": [
    "data = pd.read_csv('loan_approval_dataset.csv')\n",
    "data.shape"
   ]
  },
  {
   "cell_type": "code",
   "execution_count": 4,
   "id": "395b30b1",
   "metadata": {
    "execution": {
     "iopub.execute_input": "2025-08-24T21:40:46.093336Z",
     "iopub.status.busy": "2025-08-24T21:40:46.092941Z",
     "iopub.status.idle": "2025-08-24T21:40:46.124774Z",
     "shell.execute_reply": "2025-08-24T21:40:46.123841Z",
     "shell.execute_reply.started": "2025-08-24T21:40:46.093230Z"
    },
    "trusted": true
   },
   "outputs": [
    {
     "data": {
      "text/html": [
       "<div>\n",
       "<style scoped>\n",
       "    .dataframe tbody tr th:only-of-type {\n",
       "        vertical-align: middle;\n",
       "    }\n",
       "\n",
       "    .dataframe tbody tr th {\n",
       "        vertical-align: top;\n",
       "    }\n",
       "\n",
       "    .dataframe thead th {\n",
       "        text-align: right;\n",
       "    }\n",
       "</style>\n",
       "<table border=\"1\" class=\"dataframe\">\n",
       "  <thead>\n",
       "    <tr style=\"text-align: right;\">\n",
       "      <th></th>\n",
       "      <th>loan_id</th>\n",
       "      <th>no_of_dependents</th>\n",
       "      <th>education</th>\n",
       "      <th>self_employed</th>\n",
       "      <th>income_annum</th>\n",
       "      <th>loan_amount</th>\n",
       "      <th>loan_term</th>\n",
       "      <th>cibil_score</th>\n",
       "      <th>residential_assets_value</th>\n",
       "      <th>commercial_assets_value</th>\n",
       "      <th>luxury_assets_value</th>\n",
       "      <th>bank_asset_value</th>\n",
       "      <th>loan_status</th>\n",
       "    </tr>\n",
       "  </thead>\n",
       "  <tbody>\n",
       "    <tr>\n",
       "      <th>0</th>\n",
       "      <td>1</td>\n",
       "      <td>2</td>\n",
       "      <td>Graduate</td>\n",
       "      <td>No</td>\n",
       "      <td>9600000</td>\n",
       "      <td>29900000</td>\n",
       "      <td>12</td>\n",
       "      <td>778</td>\n",
       "      <td>2400000</td>\n",
       "      <td>17600000</td>\n",
       "      <td>22700000</td>\n",
       "      <td>8000000</td>\n",
       "      <td>Approved</td>\n",
       "    </tr>\n",
       "    <tr>\n",
       "      <th>1</th>\n",
       "      <td>2</td>\n",
       "      <td>0</td>\n",
       "      <td>Not Graduate</td>\n",
       "      <td>Yes</td>\n",
       "      <td>4100000</td>\n",
       "      <td>12200000</td>\n",
       "      <td>8</td>\n",
       "      <td>417</td>\n",
       "      <td>2700000</td>\n",
       "      <td>2200000</td>\n",
       "      <td>8800000</td>\n",
       "      <td>3300000</td>\n",
       "      <td>Rejected</td>\n",
       "    </tr>\n",
       "    <tr>\n",
       "      <th>2</th>\n",
       "      <td>3</td>\n",
       "      <td>3</td>\n",
       "      <td>Graduate</td>\n",
       "      <td>No</td>\n",
       "      <td>9100000</td>\n",
       "      <td>29700000</td>\n",
       "      <td>20</td>\n",
       "      <td>506</td>\n",
       "      <td>7100000</td>\n",
       "      <td>4500000</td>\n",
       "      <td>33300000</td>\n",
       "      <td>12800000</td>\n",
       "      <td>Rejected</td>\n",
       "    </tr>\n",
       "    <tr>\n",
       "      <th>3</th>\n",
       "      <td>4</td>\n",
       "      <td>3</td>\n",
       "      <td>Graduate</td>\n",
       "      <td>No</td>\n",
       "      <td>8200000</td>\n",
       "      <td>30700000</td>\n",
       "      <td>8</td>\n",
       "      <td>467</td>\n",
       "      <td>18200000</td>\n",
       "      <td>3300000</td>\n",
       "      <td>23300000</td>\n",
       "      <td>7900000</td>\n",
       "      <td>Rejected</td>\n",
       "    </tr>\n",
       "    <tr>\n",
       "      <th>4</th>\n",
       "      <td>5</td>\n",
       "      <td>5</td>\n",
       "      <td>Not Graduate</td>\n",
       "      <td>Yes</td>\n",
       "      <td>9800000</td>\n",
       "      <td>24200000</td>\n",
       "      <td>20</td>\n",
       "      <td>382</td>\n",
       "      <td>12400000</td>\n",
       "      <td>8200000</td>\n",
       "      <td>29400000</td>\n",
       "      <td>5000000</td>\n",
       "      <td>Rejected</td>\n",
       "    </tr>\n",
       "  </tbody>\n",
       "</table>\n",
       "</div>"
      ],
      "text/plain": [
       "   loan_id   no_of_dependents      education  self_employed   income_annum  \\\n",
       "0        1                  2       Graduate             No        9600000   \n",
       "1        2                  0   Not Graduate            Yes        4100000   \n",
       "2        3                  3       Graduate             No        9100000   \n",
       "3        4                  3       Graduate             No        8200000   \n",
       "4        5                  5   Not Graduate            Yes        9800000   \n",
       "\n",
       "    loan_amount   loan_term   cibil_score   residential_assets_value  \\\n",
       "0      29900000          12           778                    2400000   \n",
       "1      12200000           8           417                    2700000   \n",
       "2      29700000          20           506                    7100000   \n",
       "3      30700000           8           467                   18200000   \n",
       "4      24200000          20           382                   12400000   \n",
       "\n",
       "    commercial_assets_value   luxury_assets_value   bank_asset_value  \\\n",
       "0                  17600000              22700000            8000000   \n",
       "1                   2200000               8800000            3300000   \n",
       "2                   4500000              33300000           12800000   \n",
       "3                   3300000              23300000            7900000   \n",
       "4                   8200000              29400000            5000000   \n",
       "\n",
       "   loan_status  \n",
       "0     Approved  \n",
       "1     Rejected  \n",
       "2     Rejected  \n",
       "3     Rejected  \n",
       "4     Rejected  "
      ]
     },
     "execution_count": 4,
     "metadata": {},
     "output_type": "execute_result"
    }
   ],
   "source": [
    "data.head()"
   ]
  },
  {
   "cell_type": "code",
   "execution_count": 5,
   "id": "de53fc68",
   "metadata": {
    "execution": {
     "iopub.execute_input": "2025-08-24T21:40:46.126198Z",
     "iopub.status.busy": "2025-08-24T21:40:46.125880Z",
     "iopub.status.idle": "2025-08-24T21:40:46.136989Z",
     "shell.execute_reply": "2025-08-24T21:40:46.136078Z",
     "shell.execute_reply.started": "2025-08-24T21:40:46.126169Z"
    },
    "trusted": true
   },
   "outputs": [
    {
     "data": {
      "text/plain": [
       "loan_id                      0\n",
       " no_of_dependents            0\n",
       " education                   0\n",
       " self_employed               0\n",
       " income_annum                0\n",
       " loan_amount                 0\n",
       " loan_term                   0\n",
       " cibil_score                 0\n",
       " residential_assets_value    0\n",
       " commercial_assets_value     0\n",
       " luxury_assets_value         0\n",
       " bank_asset_value            0\n",
       " loan_status                 0\n",
       "dtype: int64"
      ]
     },
     "execution_count": 5,
     "metadata": {},
     "output_type": "execute_result"
    }
   ],
   "source": [
    "# Check for missing values\n",
    "data.isna().sum()"
   ]
  },
  {
   "cell_type": "markdown",
   "id": "43f8dc31",
   "metadata": {},
   "source": [
    "## Number of Numerical & Categorical columns"
   ]
  },
  {
   "cell_type": "code",
   "execution_count": 6,
   "id": "fa0db41c",
   "metadata": {
    "execution": {
     "iopub.execute_input": "2025-08-24T21:40:46.140069Z",
     "iopub.status.busy": "2025-08-24T21:40:46.139623Z",
     "iopub.status.idle": "2025-08-24T21:40:46.156602Z",
     "shell.execute_reply": "2025-08-24T21:40:46.155708Z",
     "shell.execute_reply.started": "2025-08-24T21:40:46.140046Z"
    },
    "trusted": true
   },
   "outputs": [
    {
     "name": "stdout",
     "output_type": "stream",
     "text": [
      "Numerical Columns: 10\n"
     ]
    }
   ],
   "source": [
    "numerical_cols = data.select_dtypes(include=['number']).columns.tolist()\n",
    "print(\"Numerical Columns:\", len(numerical_cols))"
   ]
  },
  {
   "cell_type": "code",
   "execution_count": 7,
   "id": "34d2e140",
   "metadata": {
    "execution": {
     "iopub.execute_input": "2025-08-24T21:40:46.157951Z",
     "iopub.status.busy": "2025-08-24T21:40:46.157556Z",
     "iopub.status.idle": "2025-08-24T21:40:46.176210Z",
     "shell.execute_reply": "2025-08-24T21:40:46.175313Z",
     "shell.execute_reply.started": "2025-08-24T21:40:46.157920Z"
    },
    "trusted": true
   },
   "outputs": [
    {
     "name": "stdout",
     "output_type": "stream",
     "text": [
      "Categorical Columns: 3\n"
     ]
    }
   ],
   "source": [
    "categorical_cols = data.select_dtypes(include=['object']).columns.tolist()\n",
    "print(\"Categorical Columns:\", len(categorical_cols))"
   ]
  },
  {
   "cell_type": "markdown",
   "id": "3527a655",
   "metadata": {},
   "source": [
    "## Convert Categorical features to Numerical "
   ]
  },
  {
   "cell_type": "code",
   "execution_count": 8,
   "id": "675bedca",
   "metadata": {
    "execution": {
     "iopub.execute_input": "2025-08-24T21:40:49.690561Z",
     "iopub.status.busy": "2025-08-24T21:40:49.690228Z",
     "iopub.status.idle": "2025-08-24T21:40:49.699324Z",
     "shell.execute_reply": "2025-08-24T21:40:49.698323Z",
     "shell.execute_reply.started": "2025-08-24T21:40:49.690529Z"
    },
    "trusted": true
   },
   "outputs": [],
   "source": [
    "lb = LabelEncoder()\n",
    "for col in categorical_cols:\n",
    "    data[col] = lb.fit_transform(data[col])"
   ]
  },
  {
   "cell_type": "code",
   "execution_count": 9,
   "id": "b382ca20",
   "metadata": {
    "execution": {
     "iopub.execute_input": "2025-08-24T21:40:49.700722Z",
     "iopub.status.busy": "2025-08-24T21:40:49.700283Z",
     "iopub.status.idle": "2025-08-24T21:40:49.722398Z",
     "shell.execute_reply": "2025-08-24T21:40:49.721541Z",
     "shell.execute_reply.started": "2025-08-24T21:40:49.700689Z"
    },
    "trusted": true
   },
   "outputs": [
    {
     "data": {
      "text/html": [
       "<div>\n",
       "<style scoped>\n",
       "    .dataframe tbody tr th:only-of-type {\n",
       "        vertical-align: middle;\n",
       "    }\n",
       "\n",
       "    .dataframe tbody tr th {\n",
       "        vertical-align: top;\n",
       "    }\n",
       "\n",
       "    .dataframe thead th {\n",
       "        text-align: right;\n",
       "    }\n",
       "</style>\n",
       "<table border=\"1\" class=\"dataframe\">\n",
       "  <thead>\n",
       "    <tr style=\"text-align: right;\">\n",
       "      <th></th>\n",
       "      <th>loan_id</th>\n",
       "      <th>no_of_dependents</th>\n",
       "      <th>education</th>\n",
       "      <th>self_employed</th>\n",
       "      <th>income_annum</th>\n",
       "      <th>loan_amount</th>\n",
       "      <th>loan_term</th>\n",
       "      <th>cibil_score</th>\n",
       "      <th>residential_assets_value</th>\n",
       "      <th>commercial_assets_value</th>\n",
       "      <th>luxury_assets_value</th>\n",
       "      <th>bank_asset_value</th>\n",
       "      <th>loan_status</th>\n",
       "    </tr>\n",
       "  </thead>\n",
       "  <tbody>\n",
       "    <tr>\n",
       "      <th>0</th>\n",
       "      <td>1</td>\n",
       "      <td>2</td>\n",
       "      <td>0</td>\n",
       "      <td>0</td>\n",
       "      <td>9600000</td>\n",
       "      <td>29900000</td>\n",
       "      <td>12</td>\n",
       "      <td>778</td>\n",
       "      <td>2400000</td>\n",
       "      <td>17600000</td>\n",
       "      <td>22700000</td>\n",
       "      <td>8000000</td>\n",
       "      <td>0</td>\n",
       "    </tr>\n",
       "    <tr>\n",
       "      <th>1</th>\n",
       "      <td>2</td>\n",
       "      <td>0</td>\n",
       "      <td>1</td>\n",
       "      <td>1</td>\n",
       "      <td>4100000</td>\n",
       "      <td>12200000</td>\n",
       "      <td>8</td>\n",
       "      <td>417</td>\n",
       "      <td>2700000</td>\n",
       "      <td>2200000</td>\n",
       "      <td>8800000</td>\n",
       "      <td>3300000</td>\n",
       "      <td>1</td>\n",
       "    </tr>\n",
       "    <tr>\n",
       "      <th>2</th>\n",
       "      <td>3</td>\n",
       "      <td>3</td>\n",
       "      <td>0</td>\n",
       "      <td>0</td>\n",
       "      <td>9100000</td>\n",
       "      <td>29700000</td>\n",
       "      <td>20</td>\n",
       "      <td>506</td>\n",
       "      <td>7100000</td>\n",
       "      <td>4500000</td>\n",
       "      <td>33300000</td>\n",
       "      <td>12800000</td>\n",
       "      <td>1</td>\n",
       "    </tr>\n",
       "    <tr>\n",
       "      <th>3</th>\n",
       "      <td>4</td>\n",
       "      <td>3</td>\n",
       "      <td>0</td>\n",
       "      <td>0</td>\n",
       "      <td>8200000</td>\n",
       "      <td>30700000</td>\n",
       "      <td>8</td>\n",
       "      <td>467</td>\n",
       "      <td>18200000</td>\n",
       "      <td>3300000</td>\n",
       "      <td>23300000</td>\n",
       "      <td>7900000</td>\n",
       "      <td>1</td>\n",
       "    </tr>\n",
       "    <tr>\n",
       "      <th>4</th>\n",
       "      <td>5</td>\n",
       "      <td>5</td>\n",
       "      <td>1</td>\n",
       "      <td>1</td>\n",
       "      <td>9800000</td>\n",
       "      <td>24200000</td>\n",
       "      <td>20</td>\n",
       "      <td>382</td>\n",
       "      <td>12400000</td>\n",
       "      <td>8200000</td>\n",
       "      <td>29400000</td>\n",
       "      <td>5000000</td>\n",
       "      <td>1</td>\n",
       "    </tr>\n",
       "  </tbody>\n",
       "</table>\n",
       "</div>"
      ],
      "text/plain": [
       "   loan_id   no_of_dependents   education   self_employed   income_annum  \\\n",
       "0        1                  2           0               0        9600000   \n",
       "1        2                  0           1               1        4100000   \n",
       "2        3                  3           0               0        9100000   \n",
       "3        4                  3           0               0        8200000   \n",
       "4        5                  5           1               1        9800000   \n",
       "\n",
       "    loan_amount   loan_term   cibil_score   residential_assets_value  \\\n",
       "0      29900000          12           778                    2400000   \n",
       "1      12200000           8           417                    2700000   \n",
       "2      29700000          20           506                    7100000   \n",
       "3      30700000           8           467                   18200000   \n",
       "4      24200000          20           382                   12400000   \n",
       "\n",
       "    commercial_assets_value   luxury_assets_value   bank_asset_value  \\\n",
       "0                  17600000              22700000            8000000   \n",
       "1                   2200000               8800000            3300000   \n",
       "2                   4500000              33300000           12800000   \n",
       "3                   3300000              23300000            7900000   \n",
       "4                   8200000              29400000            5000000   \n",
       "\n",
       "    loan_status  \n",
       "0             0  \n",
       "1             1  \n",
       "2             1  \n",
       "3             1  \n",
       "4             1  "
      ]
     },
     "execution_count": 9,
     "metadata": {},
     "output_type": "execute_result"
    }
   ],
   "source": [
    "data.head()"
   ]
  },
  {
   "cell_type": "markdown",
   "id": "a29ed498",
   "metadata": {},
   "source": [
    "### Data Splitting"
   ]
  },
  {
   "cell_type": "code",
   "execution_count": 10,
   "id": "5add78d6",
   "metadata": {
    "execution": {
     "iopub.execute_input": "2025-08-24T21:40:49.723770Z",
     "iopub.status.busy": "2025-08-24T21:40:49.723475Z",
     "iopub.status.idle": "2025-08-24T21:40:49.741435Z",
     "shell.execute_reply": "2025-08-24T21:40:49.740234Z",
     "shell.execute_reply.started": "2025-08-24T21:40:49.723749Z"
    },
    "trusted": true
   },
   "outputs": [],
   "source": [
    "X = data.drop(columns=['loan_id', ' loan_status'])\n",
    "y = data[' loan_status']"
   ]
  },
  {
   "cell_type": "code",
   "execution_count": 11,
   "id": "0d700997",
   "metadata": {
    "execution": {
     "iopub.execute_input": "2025-08-24T21:40:49.742604Z",
     "iopub.status.busy": "2025-08-24T21:40:49.742270Z",
     "iopub.status.idle": "2025-08-24T21:40:49.759824Z",
     "shell.execute_reply": "2025-08-24T21:40:49.758776Z",
     "shell.execute_reply.started": "2025-08-24T21:40:49.742579Z"
    },
    "trusted": true
   },
   "outputs": [],
   "source": [
    "X_train,X_test,y_train,y_test = train_test_split(X,y,test_size=0.3,random_state=42)"
   ]
  },
  {
   "cell_type": "markdown",
   "id": "41e0e051",
   "metadata": {},
   "source": [
    "### Random Forest Model"
   ]
  },
  {
   "cell_type": "code",
   "execution_count": 12,
   "id": "30b4edc4",
   "metadata": {
    "execution": {
     "iopub.execute_input": "2025-08-24T21:40:49.761017Z",
     "iopub.status.busy": "2025-08-24T21:40:49.760756Z",
     "iopub.status.idle": "2025-08-24T21:40:50.160303Z",
     "shell.execute_reply": "2025-08-24T21:40:50.159437Z",
     "shell.execute_reply.started": "2025-08-24T21:40:49.760995Z"
    },
    "trusted": true
   },
   "outputs": [
    {
     "name": "stdout",
     "output_type": "stream",
     "text": [
      "Accuracy: 97.81%\n",
      "ROC score: 97.47\n",
      "Precision score:0.98\n",
      "Recall score: 0.96\n",
      "F1-score: 0.97\n"
     ]
    }
   ],
   "source": [
    "model = RandomForestClassifier()\n",
    "model.fit(X_train,y_train)\n",
    "y_pred = model.predict(X_test)\n",
    "print(f'Accuracy: {accuracy_score(y_test,y_pred)*100:.2f}%')\n",
    "print(f'ROC score: {roc_auc_score(y_test,y_pred)*100:.2f}')\n",
    "print(f'Precision score:{precision_score(y_test,y_pred):.2f}')\n",
    "print(f'Recall score: {recall_score(y_test,y_pred):.2f}')\n",
    "print(f'F1-score: {f1_score(y_test,y_pred):.2f}')"
   ]
  },
  {
   "cell_type": "markdown",
   "id": "228dafcd",
   "metadata": {},
   "source": [
    "### Confusion Matrix"
   ]
  },
  {
   "cell_type": "code",
   "execution_count": 18,
   "id": "2a2f5977",
   "metadata": {
    "execution": {
     "iopub.execute_input": "2025-08-24T21:40:50.249115Z",
     "iopub.status.busy": "2025-08-24T21:40:50.248881Z",
     "iopub.status.idle": "2025-08-24T21:40:50.465081Z",
     "shell.execute_reply": "2025-08-24T21:40:50.464149Z",
     "shell.execute_reply.started": "2025-08-24T21:40:50.249096Z"
    },
    "trusted": true
   },
   "outputs": [
    {
     "data": {
      "image/png": "[encoded data removed]",
      "text/plain": [
       "<Figure size 640x480 with 2 Axes>"
      ]
     },
     "metadata": {},
     "output_type": "display_data"
    }
   ],
   "source": [
    "cm = confusion_matrix(y_test,y_pred)\n",
    "disp = ConfusionMatrixDisplay(cm)\n",
    "disp.plot(ax=plt.gca())\n",
    "plt.title('Confusion Matrix')\n",
    "plt.show()"
   ]
  },
  {
   "cell_type": "markdown",
   "id": "6987efbc",
   "metadata": {},
   "source": [
    "### Classification Report"
   ]
  },
  {
   "cell_type": "code",
   "execution_count": 19,
   "id": "d795970e",
   "metadata": {
    "execution": {
     "iopub.execute_input": "2025-08-24T21:40:50.466289Z",
     "iopub.status.busy": "2025-08-24T21:40:50.465979Z",
     "iopub.status.idle": "2025-08-24T21:40:50.480555Z",
     "shell.execute_reply": "2025-08-24T21:40:50.479392Z",
     "shell.execute_reply.started": "2025-08-24T21:40:50.466262Z"
    },
    "trusted": true
   },
   "outputs": [
    {
     "name": "stdout",
     "output_type": "stream",
     "text": [
      "Classification Report\n",
      "               precision    recall  f1-score   support\n",
      "\n",
      "           0       0.98      0.99      0.98       810\n",
      "           1       0.98      0.96      0.97       471\n",
      "\n",
      "    accuracy                           0.98      1281\n",
      "   macro avg       0.98      0.97      0.98      1281\n",
      "weighted avg       0.98      0.98      0.98      1281\n",
      "\n"
     ]
    }
   ],
   "source": [
    "print('Classification Report\\n',classification_report(y_test,y_pred))"
   ]
  },
  {
   "cell_type": "code",
   "execution_count": 30,
   "id": "cc2eb088",
   "metadata": {
    "execution": {
     "iopub.execute_input": "2025-08-24T21:42:23.642679Z",
     "iopub.status.busy": "2025-08-24T21:42:23.641817Z",
     "iopub.status.idle": "2025-08-24T21:42:23.653732Z",
     "shell.execute_reply": "2025-08-24T21:42:23.652892Z",
     "shell.execute_reply.started": "2025-08-24T21:42:23.642640Z"
    },
    "trusted": true
   },
   "outputs": [
    {
     "data": {
      "text/html": [
       "<div>\n",
       "<style scoped>\n",
       "    .dataframe tbody tr th:only-of-type {\n",
       "        vertical-align: middle;\n",
       "    }\n",
       "\n",
       "    .dataframe tbody tr th {\n",
       "        vertical-align: top;\n",
       "    }\n",
       "\n",
       "    .dataframe thead th {\n",
       "        text-align: right;\n",
       "    }\n",
       "</style>\n",
       "<table border=\"1\" class=\"dataframe\">\n",
       "  <thead>\n",
       "    <tr style=\"text-align: right;\">\n",
       "      <th></th>\n",
       "      <th>model</th>\n",
       "      <th>Accuracy</th>\n",
       "      <th>ROC score</th>\n",
       "      <th>Precision Score</th>\n",
       "      <th>Recal Score</th>\n",
       "      <th>F1 Score</th>\n",
       "    </tr>\n",
       "  </thead>\n",
       "  <tbody>\n",
       "    <tr>\n",
       "      <th>0</th>\n",
       "      <td>Random Forest</td>\n",
       "      <td>97.81%</td>\n",
       "      <td>97.34</td>\n",
       "      <td>0.98</td>\n",
       "      <td>0.96</td>\n",
       "      <td>0.97</td>\n",
       "    </tr>\n",
       "  </tbody>\n",
       "</table>\n",
       "</div>"
      ],
      "text/plain": [
       "           model Accuracy  ROC score  Precision Score  Recal Score  F1 Score\n",
       "0  Random Forest   97.81%      97.34             0.98         0.96      0.97"
      ]
     },
     "execution_count": 30,
     "metadata": {},
     "output_type": "execute_result"
    }
   ],
   "source": [
    "performance = pd.DataFrame({'model':['Random Forest', ],\n",
    "                            'Accuracy':[' 97.81%'],'ROC score': [97.34],'Precision Score':[0.98],\n",
    "                            'Recal Score':[0.96],'F1 Score':[0.97]})\n",
    "performance"
   ]
  },
  {
   "cell_type": "code",
   "execution_count": null,
   "id": "b5ae9f87",
   "metadata": {},
   "outputs": [],
   "source": []
  }
 ],
 "metadata": {
  "kernelspec": {
   "display_name": "base",
   "language": "python",
   "name": "python3"
  },
  "language_info": {
   "codemirror_mode": {
    "name": "ipython",
    "version": 3
   },
   "file_extension": ".py",
   "mimetype": "text/x-python",
   "name": "python",
   "nbconvert_exporter": "python",
   "pygments_lexer": "ipython3",
   "version": "3.12.7"
  }
 },
 "nbformat": 4,
 "nbformat_minor": 5
}
